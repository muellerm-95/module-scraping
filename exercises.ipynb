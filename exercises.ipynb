{
 "cells": [
  {
   "cell_type": "code",
   "execution_count": 49,
   "metadata": {
    "autoscroll": false,
    "ein.hycell": false,
    "ein.tags": "worksheet-0",
    "slideshow": {
     "slide_type": "-"
    }
   },
   "outputs": [],
   "source": [
    "# Our jupyter/datascience-notebook Docker container comes with \n",
    "# BeautifulSoup4 and requests, both popular libraries!\n",
    "\n",
    "from bs4 import BeautifulSoup\n",
    "import requests"
   ]
  },
  {
   "cell_type": "code",
   "execution_count": 50,
   "metadata": {
    "autoscroll": false,
    "ein.hycell": false,
    "ein.tags": "worksheet-0",
    "slideshow": {
     "slide_type": "-"
    }
   },
   "outputs": [],
   "source": [
    "START_URL = 'https://brickset.com/sets/year-2016'"
   ]
  },
  {
   "cell_type": "code",
   "execution_count": 43,
   "metadata": {
    "autoscroll": false,
    "ein.hycell": false,
    "ein.tags": "worksheet-0",
    "slideshow": {
     "slide_type": "-"
    }
   },
   "outputs": [],
   "source": [
    "# Exercise #1: Get the titles for each \"brickset\" on the first pag\n",
    "    \n",
    "def get_titles(soup):    \n",
    "    \"\"\" Returns a list of titles on the page \"\"\"\n",
    "    # the \"soup\" parameter is of the type that is\n",
    "    # returned by Beautiful Soup when it parses HTML.\n",
    "    # The function should then use the object to\n",
    "    # extract a list of titles (of the lego sets)\n",
    "    #\n",
    "    # Lookup the documentation for Beautiful Soup\n",
    "    # Figure out how to select the text of the title\n",
    "    # of each legoset. A title should look like: \n",
    "    # \"10252: Volkswagen Beetle\"\n",
    "    l=soup.select('h1 a')\n",
    "    titles = [el.get_text() for el in l]\n",
    "    return titles\n",
    "\n",
    "def get_next_url(soup):\n",
    "    sect2 = soup.find('li', attrs = {'class':'next'})\n",
    "    a=sect2.find('a')\n",
    "    if a is not None:\n",
    "        print(a.get('href'))\n",
    "        return a.get('href')\n",
    "    else: return None\n",
    "\n",
    "def get_next_url(soup):\n",
    "    sect2 = soup.find('li', attrs = {'class':'next'})\n",
    "    a=sect2.find('a')\n",
    "    if a is not None:\n",
    "        print(a.get('href'))\n",
    "        return a.get('href')\n",
    "    else: return None\n",
    "\n",
    "def parse_bricks(url):\n",
    "    \"\"\" Fetches Lego Bricks page and extracts titles \"\"\"\n",
    "    # Lookup the documentation to the \"requests\" library\n",
    "    #\n",
    "    # Use requests to make a get request to the\n",
    "    # url given in the argument \"url\" (which is a string)\n",
    "    # and get the raw HTML body of the response\n",
    "    #\n",
    "    # Use \"BeautifulSoup\" to parse this HTML. \n",
    "    #\n",
    "    # Use the \"get_titles\" function to extract the\n",
    "    # titles from the BeautifulSoup object.\n",
    "    #\n",
    "    # Return the titles\n",
    "    request = requests.get(url)\n",
    "    soup = BeautifulSoup(request.text, 'html.parser')\n",
    "    titles = get_titles(soup)\n",
    "    next_url = get_next_url(soup)\n",
    "    return titles,next_url"
   ]
  },
  {
   "cell_type": "code",
   "execution_count": 44,
   "metadata": {},
   "outputs": [],
   "source": [
    "url= 'https://brickset.com/sets/year-2016'\n",
    "request = requests.get(url)\n",
    "soup = BeautifulSoup(request.text, 'html.parser')"
   ]
  },
  {
   "cell_type": "code",
   "execution_count": 45,
   "metadata": {
    "autoscroll": false,
    "ein.hycell": false,
    "ein.tags": "worksheet-0",
    "slideshow": {
     "slide_type": "-"
    }
   },
   "outputs": [
    {
     "name": "stdout",
     "output_type": "stream",
     "text": [
      "https://brickset.com/sets/year-2016/page-2\n"
     ]
    }
   ],
   "source": [
    "bricks,url = parse_bricks(START_URL)"
   ]
  },
  {
   "cell_type": "code",
   "execution_count": 46,
   "metadata": {
    "autoscroll": false,
    "ein.hycell": false,
    "ein.tags": "worksheet-0",
    "slideshow": {
     "slide_type": "-"
    }
   },
   "outputs": [],
   "source": [
    "assert(bricks[0] == '10251:  Brick Bank')\n",
    "assert(bricks[9] == '10722:  Snake Showdown')"
   ]
  },
  {
   "cell_type": "code",
   "execution_count": 47,
   "metadata": {
    "autoscroll": false,
    "ein.hycell": false,
    "ein.tags": "worksheet-0",
    "scrolled": true,
    "slideshow": {
     "slide_type": "-"
    }
   },
   "outputs": [
    {
     "name": "stdout",
     "output_type": "stream",
     "text": [
      "https://brickset.com/sets/year-2016/page-2\n",
      "https://brickset.com/sets/year-2016/page-3\n",
      "https://brickset.com/sets/year-2016/page-4\n",
      "https://brickset.com/sets/year-2016/page-5\n",
      "https://brickset.com/sets/year-2016/page-6\n",
      "https://brickset.com/sets/year-2016/page-7\n",
      "https://brickset.com/sets/year-2016/page-8\n",
      "https://brickset.com/sets/year-2016/page-9\n",
      "https://brickset.com/sets/year-2016/page-10\n",
      "https://brickset.com/sets/year-2016/page-11\n",
      "https://brickset.com/sets/year-2016/page-12\n",
      "https://brickset.com/sets/year-2016/page-13\n",
      "https://brickset.com/sets/year-2016/page-14\n",
      "https://brickset.com/sets/year-2016/page-15\n",
      "https://brickset.com/sets/year-2016/page-16\n",
      "https://brickset.com/sets/year-2016/page-17\n",
      "https://brickset.com/sets/year-2016/page-18\n",
      "https://brickset.com/sets/year-2016/page-19\n",
      "https://brickset.com/sets/year-2016/page-20\n",
      "https://brickset.com/sets/year-2016/page-21\n",
      "https://brickset.com/sets/year-2016/page-22\n",
      "https://brickset.com/sets/year-2016/page-23\n",
      "https://brickset.com/sets/year-2016/page-24\n",
      "https://brickset.com/sets/year-2016/page-25\n",
      "https://brickset.com/sets/year-2016/page-26\n",
      "https://brickset.com/sets/year-2016/page-27\n",
      "https://brickset.com/sets/year-2016/page-28\n",
      "https://brickset.com/sets/year-2016/page-29\n",
      "https://brickset.com/sets/year-2016/page-30\n",
      "https://brickset.com/sets/year-2016/page-31\n",
      "https://brickset.com/sets/year-2016/page-32\n",
      "https://brickset.com/sets/year-2016/page-33\n",
      "https://brickset.com/sets/year-2016/page-34\n"
     ]
    }
   ],
   "source": [
    "# Exercise #2\n",
    "def get_all_titles(url):\n",
    "    titles = []\n",
    "    \n",
    "    # While loop! Like a for-loop, \n",
    "    # but goes on for an indetermined amount\n",
    "    # of time:\n",
    "    while url:\n",
    "        results, url = parse_bricks(url)\n",
    "        titles += results\n",
    "    return titles\n",
    "\n",
    "titles = get_all_titles(START_URL)\n",
    "\n",
    "# Now write code that gets you all the links from ALL the pages.\n",
    "\n",
    "########### inlcuded in third cell from top ##############\n",
    "\n",
    "# HINT: you will probably want to extract the URL in the \"next\" button on \n",
    "# the bottom of the search pagination, which looks like \">\".\n",
    "\n",
    "# HINT HINT: Think of the previous exercise on API's and internet data.\n",
    "# The Pokemon API returned JSON, that we converted to a dictionary, that\n",
    "# had a nice structure. In particular, there were two top-level keys of interest, \n",
    "# one had the \"results\" in a list, the other was the \"next\" url to call to get\n",
    "# more items. If you can replicate this return structure, you will be able to \n",
    "# almost reuse the while loop you had there!\n",
    "\n",
    "# HINT HINT HINT: There's no reason you shouldn't be able to reuse the previous \n",
    "# functions (get_titles and parse_bricks)"
   ]
  },
  {
   "cell_type": "code",
   "execution_count": 48,
   "metadata": {},
   "outputs": [
    {
     "data": {
      "text/plain": [
       "826"
      ]
     },
     "execution_count": 48,
     "metadata": {},
     "output_type": "execute_result"
    }
   ],
   "source": [
    "len(titles)"
   ]
  },
  {
   "cell_type": "code",
   "execution_count": null,
   "metadata": {},
   "outputs": [],
   "source": []
  }
 ],
 "metadata": {
  "kernelspec": {
   "display_name": "Python 3",
   "language": "python",
   "name": "python3"
  },
  "language_info": {
   "codemirror_mode": {
    "name": "ipython",
    "version": 3
   },
   "file_extension": ".py",
   "mimetype": "text/x-python",
   "name": "python",
   "nbconvert_exporter": "python",
   "pygments_lexer": "ipython3",
   "version": "3.6.6"
  },
  "name": "exercises.ipynb"
 },
 "nbformat": 4,
 "nbformat_minor": 2
}
